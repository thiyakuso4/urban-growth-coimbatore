{
 "cells": [
  {
   "cell_type": "code",
   "execution_count": 19,
   "metadata": {},
   "outputs": [],
   "source": [
    "import pickle\n",
    "import glob\n",
    "import os\n",
    "import rasterio\n",
    "import numpy as np\n",
    "from scipy.ndimage import median_filter\n",
    "import pandas as pd"
   ]
  },
  {
   "cell_type": "code",
   "execution_count": 20,
   "metadata": {},
   "outputs": [],
   "source": [
    "#data_dir = \"\"\n",
    "out_dir = f\"C:/Users/apsam/Documents/work/Thiyaku work/blog_urban_growth/classified_v2\"\n",
    "\n",
    "model_path = f\"C:/Users/apsam/Documents/work/Thiyaku work/blog_urban_growth/random_forest_model_cbe_1.pkl\""
   ]
  },
  {
   "cell_type": "code",
   "execution_count": 21,
   "metadata": {},
   "outputs": [],
   "source": [
    "with open(model_path, \"rb\") as f:\n",
    "    model = pickle.load(f)"
   ]
  },
  {
   "cell_type": "code",
   "execution_count": 22,
   "metadata": {},
   "outputs": [],
   "source": [
    "tif_paths = glob.glob(f\"C:/Users/apsam/Documents/work/Thiyaku work/blog_urban_growth/std_tif/*.tif\")"
   ]
  },
  {
   "cell_type": "code",
   "execution_count": 17,
   "metadata": {},
   "outputs": [
    {
     "name": "stdout",
     "output_type": "stream",
     "text": [
      "Standardization completed and saved to output folder.\n"
     ]
    }
   ],
   "source": [
    "import os\n",
    "import rasterio\n",
    "import numpy as np\n",
    "from sklearn.preprocessing import StandardScaler\n",
    "\n",
    "# Folder containing the .tif files\n",
    "folder_path = \"C:/Users/apsam/Documents/work/Thiyaku work/blog_urban_growth/tif\"\n",
    "output_folder = 'C:/Users/apsam/Documents/work/Thiyaku work/blog_urban_growth/std_tif'\n",
    "\n",
    "# Create output folder if it doesn't exist\n",
    "os.makedirs(output_folder, exist_ok=True)\n",
    "\n",
    "# Iterate through the .tif files in the folder\n",
    "for file_name in os.listdir(folder_path):\n",
    "    if file_name.endswith('.tif'):\n",
    "        # Open the .tif file\n",
    "        file_path = os.path.join(folder_path, file_name)\n",
    "        with rasterio.open(file_path) as src:\n",
    "            # Read the raster data\n",
    "            raster_data = src.read(1)  # Read the first band (single-band image)\n",
    "\n",
    "            # Reshape the raster data for standardization\n",
    "            raster_data_reshaped = raster_data.flatten().reshape(-1, 1)\n",
    "\n",
    "            # Standardize the data\n",
    "            scaler = StandardScaler()\n",
    "            standardized_data = scaler.fit_transform(raster_data_reshaped)\n",
    "\n",
    "            # Reshape back to original raster shape\n",
    "            standardized_data = standardized_data.reshape(raster_data.shape)\n",
    "\n",
    "            # Save the standardized raster as a new .tif file\n",
    "            output_file_path = os.path.join(output_folder, file_name)\n",
    "            with rasterio.open(\n",
    "                output_file_path, \n",
    "                'w', \n",
    "                driver='GTiff', \n",
    "                height=src.height, \n",
    "                width=src.width, \n",
    "                count=1, \n",
    "                dtype=standardized_data.dtype,\n",
    "                crs=src.crs, \n",
    "                transform=src.transform\n",
    "            ) as dst:\n",
    "                dst.write(standardized_data, 1)\n",
    "\n",
    "print(\"Standardization completed and saved to output folder.\")\n"
   ]
  },
  {
   "cell_type": "code",
   "execution_count": 23,
   "metadata": {},
   "outputs": [],
   "source": [
    "def predict_tif(input_path, output_path):\n",
    "    # Open the .tif file\n",
    "    with rasterio.open(input_path) as src:\n",
    "        # Read all bands into a 3D array (height x width x bands)\n",
    "        image = np.stack([src.read(i) for i in range(1, src.count + 1)], axis=-1)\n",
    "        \n",
    "        # Reshape the image to have one row per pixel (num_pixels x bands)\n",
    "        nrows, ncols, nbands = image.shape\n",
    "        reshaped_image = image.reshape((nrows * ncols, nbands))\n",
    "        \n",
    "        # Define the expected bands (assuming the model expects \"B1\", \"B2\", ..., \"B13\")\n",
    "        expected_bands = 13  # Change this to match the number of bands used during training\n",
    "        if nbands > expected_bands:\n",
    "            reshaped_image = reshaped_image[:, :expected_bands]  # Select only the first expected_bands columns\n",
    "        \n",
    "        # Convert to DataFrame with appropriate column names for the model\n",
    "        band_columns = [f\"B{i}\" for i in range(1, expected_bands + 1)]\n",
    "        X_predict = pd.DataFrame(reshaped_image, columns=band_columns)\n",
    "        \n",
    "        # Predict the class for each pixel\n",
    "        predictions = model.predict(X_predict)\n",
    "        \n",
    "        # Reshape predictions back to the original image shape\n",
    "        classified_image = predictions.reshape((nrows, ncols))\n",
    "    \n",
    "    # Filter the predictions (assuming class 2 corresponds to settlements)\n",
    "    #filtered_image = np.where(classified_image == 2, 1, 0)\n",
    "    filtered_image = median_filter(classified_image, size=3)\n",
    "    \n",
    "    # Save the classified image as a new .tif file\n",
    "    output_meta = src.meta.copy()\n",
    "    output_meta.update({\n",
    "        \"driver\": \"GTiff\",\n",
    "        \"height\": nrows,\n",
    "        \"width\": ncols,\n",
    "        \"count\": 1,\n",
    "        \"dtype\": \"int32\",  # assuming the classes are integers\n",
    "        \"transform\": src.transform\n",
    "    })\n",
    "    with rasterio.open(output_path, \"w\", **output_meta) as dst:\n",
    "        dst.write(filtered_image.astype(rasterio.int32), 1)\n",
    "    \n",
    "    return True"
   ]
  },
  {
   "cell_type": "code",
   "execution_count": 24,
   "metadata": {},
   "outputs": [
    {
     "ename": "ValueError",
     "evalue": "Shape of passed values is (4574360, 1), indices imply (4574360, 13)",
     "output_type": "error",
     "traceback": [
      "\u001b[1;31m---------------------------------------------------------------------------\u001b[0m",
      "\u001b[1;31mValueError\u001b[0m                                Traceback (most recent call last)",
      "Cell \u001b[1;32mIn[24], line 6\u001b[0m\n\u001b[0;32m      4\u001b[0m out_path \u001b[38;5;241m=\u001b[39m os\u001b[38;5;241m.\u001b[39mpath\u001b[38;5;241m.\u001b[39mjoin(out_dir, tif_bn)\n\u001b[0;32m      5\u001b[0m \u001b[38;5;28;01mif\u001b[39;00m \u001b[38;5;129;01mnot\u001b[39;00m os\u001b[38;5;241m.\u001b[39mpath\u001b[38;5;241m.\u001b[39mexists(out_path):\n\u001b[1;32m----> 6\u001b[0m     \u001b[43mpredict_tif\u001b[49m\u001b[43m(\u001b[49m\u001b[43mtif_path\u001b[49m\u001b[43m,\u001b[49m\u001b[43m \u001b[49m\u001b[43mout_path\u001b[49m\u001b[43m)\u001b[49m\n\u001b[0;32m      7\u001b[0m \u001b[38;5;28mprint\u001b[39m(out_path)\n",
      "Cell \u001b[1;32mIn[23], line 18\u001b[0m, in \u001b[0;36mpredict_tif\u001b[1;34m(input_path, output_path)\u001b[0m\n\u001b[0;32m     16\u001b[0m \u001b[38;5;66;03m# Convert to DataFrame with appropriate column names for the model\u001b[39;00m\n\u001b[0;32m     17\u001b[0m band_columns \u001b[38;5;241m=\u001b[39m [\u001b[38;5;124mf\u001b[39m\u001b[38;5;124m\"\u001b[39m\u001b[38;5;124mB\u001b[39m\u001b[38;5;132;01m{\u001b[39;00mi\u001b[38;5;132;01m}\u001b[39;00m\u001b[38;5;124m\"\u001b[39m \u001b[38;5;28;01mfor\u001b[39;00m i \u001b[38;5;129;01min\u001b[39;00m \u001b[38;5;28mrange\u001b[39m(\u001b[38;5;241m1\u001b[39m, expected_bands \u001b[38;5;241m+\u001b[39m \u001b[38;5;241m1\u001b[39m)]\n\u001b[1;32m---> 18\u001b[0m X_predict \u001b[38;5;241m=\u001b[39m \u001b[43mpd\u001b[49m\u001b[38;5;241;43m.\u001b[39;49m\u001b[43mDataFrame\u001b[49m\u001b[43m(\u001b[49m\u001b[43mreshaped_image\u001b[49m\u001b[43m,\u001b[49m\u001b[43m \u001b[49m\u001b[43mcolumns\u001b[49m\u001b[38;5;241;43m=\u001b[39;49m\u001b[43mband_columns\u001b[49m\u001b[43m)\u001b[49m\n\u001b[0;32m     20\u001b[0m \u001b[38;5;66;03m# Predict the class for each pixel\u001b[39;00m\n\u001b[0;32m     21\u001b[0m predictions \u001b[38;5;241m=\u001b[39m model\u001b[38;5;241m.\u001b[39mpredict(X_predict)\n",
      "File \u001b[1;32m~\\miniconda3\\Lib\\site-packages\\pandas\\core\\frame.py:827\u001b[0m, in \u001b[0;36mDataFrame.__init__\u001b[1;34m(self, data, index, columns, dtype, copy)\u001b[0m\n\u001b[0;32m    816\u001b[0m         mgr \u001b[38;5;241m=\u001b[39m dict_to_mgr(\n\u001b[0;32m    817\u001b[0m             \u001b[38;5;66;03m# error: Item \"ndarray\" of \"Union[ndarray, Series, Index]\" has no\u001b[39;00m\n\u001b[0;32m    818\u001b[0m             \u001b[38;5;66;03m# attribute \"name\"\u001b[39;00m\n\u001b[1;32m   (...)\u001b[0m\n\u001b[0;32m    824\u001b[0m             copy\u001b[38;5;241m=\u001b[39m_copy,\n\u001b[0;32m    825\u001b[0m         )\n\u001b[0;32m    826\u001b[0m     \u001b[38;5;28;01melse\u001b[39;00m:\n\u001b[1;32m--> 827\u001b[0m         mgr \u001b[38;5;241m=\u001b[39m \u001b[43mndarray_to_mgr\u001b[49m\u001b[43m(\u001b[49m\n\u001b[0;32m    828\u001b[0m \u001b[43m            \u001b[49m\u001b[43mdata\u001b[49m\u001b[43m,\u001b[49m\n\u001b[0;32m    829\u001b[0m \u001b[43m            \u001b[49m\u001b[43mindex\u001b[49m\u001b[43m,\u001b[49m\n\u001b[0;32m    830\u001b[0m \u001b[43m            \u001b[49m\u001b[43mcolumns\u001b[49m\u001b[43m,\u001b[49m\n\u001b[0;32m    831\u001b[0m \u001b[43m            \u001b[49m\u001b[43mdtype\u001b[49m\u001b[38;5;241;43m=\u001b[39;49m\u001b[43mdtype\u001b[49m\u001b[43m,\u001b[49m\n\u001b[0;32m    832\u001b[0m \u001b[43m            \u001b[49m\u001b[43mcopy\u001b[49m\u001b[38;5;241;43m=\u001b[39;49m\u001b[43mcopy\u001b[49m\u001b[43m,\u001b[49m\n\u001b[0;32m    833\u001b[0m \u001b[43m            \u001b[49m\u001b[43mtyp\u001b[49m\u001b[38;5;241;43m=\u001b[39;49m\u001b[43mmanager\u001b[49m\u001b[43m,\u001b[49m\n\u001b[0;32m    834\u001b[0m \u001b[43m        \u001b[49m\u001b[43m)\u001b[49m\n\u001b[0;32m    836\u001b[0m \u001b[38;5;66;03m# For data is list-like, or Iterable (will consume into list)\u001b[39;00m\n\u001b[0;32m    837\u001b[0m \u001b[38;5;28;01melif\u001b[39;00m is_list_like(data):\n",
      "File \u001b[1;32m~\\miniconda3\\Lib\\site-packages\\pandas\\core\\internals\\construction.py:336\u001b[0m, in \u001b[0;36mndarray_to_mgr\u001b[1;34m(values, index, columns, dtype, copy, typ)\u001b[0m\n\u001b[0;32m    331\u001b[0m \u001b[38;5;66;03m# _prep_ndarraylike ensures that values.ndim == 2 at this point\u001b[39;00m\n\u001b[0;32m    332\u001b[0m index, columns \u001b[38;5;241m=\u001b[39m _get_axes(\n\u001b[0;32m    333\u001b[0m     values\u001b[38;5;241m.\u001b[39mshape[\u001b[38;5;241m0\u001b[39m], values\u001b[38;5;241m.\u001b[39mshape[\u001b[38;5;241m1\u001b[39m], index\u001b[38;5;241m=\u001b[39mindex, columns\u001b[38;5;241m=\u001b[39mcolumns\n\u001b[0;32m    334\u001b[0m )\n\u001b[1;32m--> 336\u001b[0m \u001b[43m_check_values_indices_shape_match\u001b[49m\u001b[43m(\u001b[49m\u001b[43mvalues\u001b[49m\u001b[43m,\u001b[49m\u001b[43m \u001b[49m\u001b[43mindex\u001b[49m\u001b[43m,\u001b[49m\u001b[43m \u001b[49m\u001b[43mcolumns\u001b[49m\u001b[43m)\u001b[49m\n\u001b[0;32m    338\u001b[0m \u001b[38;5;28;01mif\u001b[39;00m typ \u001b[38;5;241m==\u001b[39m \u001b[38;5;124m\"\u001b[39m\u001b[38;5;124marray\u001b[39m\u001b[38;5;124m\"\u001b[39m:\n\u001b[0;32m    339\u001b[0m     \u001b[38;5;28;01mif\u001b[39;00m \u001b[38;5;28missubclass\u001b[39m(values\u001b[38;5;241m.\u001b[39mdtype\u001b[38;5;241m.\u001b[39mtype, \u001b[38;5;28mstr\u001b[39m):\n",
      "File \u001b[1;32m~\\miniconda3\\Lib\\site-packages\\pandas\\core\\internals\\construction.py:420\u001b[0m, in \u001b[0;36m_check_values_indices_shape_match\u001b[1;34m(values, index, columns)\u001b[0m\n\u001b[0;32m    418\u001b[0m passed \u001b[38;5;241m=\u001b[39m values\u001b[38;5;241m.\u001b[39mshape\n\u001b[0;32m    419\u001b[0m implied \u001b[38;5;241m=\u001b[39m (\u001b[38;5;28mlen\u001b[39m(index), \u001b[38;5;28mlen\u001b[39m(columns))\n\u001b[1;32m--> 420\u001b[0m \u001b[38;5;28;01mraise\u001b[39;00m \u001b[38;5;167;01mValueError\u001b[39;00m(\u001b[38;5;124mf\u001b[39m\u001b[38;5;124m\"\u001b[39m\u001b[38;5;124mShape of passed values is \u001b[39m\u001b[38;5;132;01m{\u001b[39;00mpassed\u001b[38;5;132;01m}\u001b[39;00m\u001b[38;5;124m, indices imply \u001b[39m\u001b[38;5;132;01m{\u001b[39;00mimplied\u001b[38;5;132;01m}\u001b[39;00m\u001b[38;5;124m\"\u001b[39m)\n",
      "\u001b[1;31mValueError\u001b[0m: Shape of passed values is (4574360, 1), indices imply (4574360, 13)"
     ]
    }
   ],
   "source": [
    "for tif_path in tif_paths:\n",
    "    tif_bn = os.path.basename(tif_path)\n",
    "    tif_date = tif_bn.replace(\".tif\", \"\")\n",
    "    out_path = os.path.join(out_dir, tif_bn)\n",
    "    if not os.path.exists(out_path):\n",
    "        predict_tif(tif_path, out_path)\n",
    "    print(out_path)"
   ]
  },
  {
   "cell_type": "code",
   "execution_count": null,
   "metadata": {},
   "outputs": [],
   "source": []
  }
 ],
 "metadata": {
  "kernelspec": {
   "display_name": "Python 3 (ipykernel)",
   "language": "python",
   "name": "python3"
  },
  "language_info": {
   "codemirror_mode": {
    "name": "ipython",
    "version": 3
   },
   "file_extension": ".py",
   "mimetype": "text/x-python",
   "name": "python",
   "nbconvert_exporter": "python",
   "pygments_lexer": "ipython3",
   "version": "3.12.2"
  }
 },
 "nbformat": 4,
 "nbformat_minor": 4
}
