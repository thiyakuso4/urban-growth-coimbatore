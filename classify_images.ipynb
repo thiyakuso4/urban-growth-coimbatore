{
 "cells": [
  {
   "cell_type": "code",
   "execution_count": 25,
   "metadata": {},
   "outputs": [],
   "source": [
    "import pickle\n",
    "import glob\n",
    "import os\n",
    "import rasterio\n",
    "import numpy as np\n",
    "from scipy.ndimage import median_filter\n",
    "import pandas as pd"
   ]
  },
  {
   "cell_type": "code",
   "execution_count": 26,
   "metadata": {},
   "outputs": [],
   "source": [
    "#data_dir = \"\"\n",
    "out_dir = f\"C:/Users/apsam/Documents/work/Thiyaku work/blog_urban_growth/classified_v2\"\n",
    "\n",
    "model_path = f\"C:/Users/apsam/Documents/work/Thiyaku work/blog_urban_growth/random_forest_model_cbe.pkl\""
   ]
  },
  {
   "cell_type": "code",
   "execution_count": 27,
   "metadata": {},
   "outputs": [],
   "source": [
    "with open(model_path, \"rb\") as f:\n",
    "    model = pickle.load(f)"
   ]
  },
  {
   "cell_type": "code",
   "execution_count": 28,
   "metadata": {},
   "outputs": [],
   "source": [
    "tif_paths = glob.glob(f\"C:/Users/apsam/Documents/work/Thiyaku work/blog_urban_growth/New folder/*.tif\")"
   ]
  },
  {
   "cell_type": "code",
   "execution_count": null,
   "metadata": {},
   "outputs": [],
   "source": []
  },
  {
   "cell_type": "code",
   "execution_count": 29,
   "metadata": {},
   "outputs": [],
   "source": [
    "def predict_tif(input_path, output_path):\n",
    "    # Open the .tif file\n",
    "    with rasterio.open(input_path) as src:\n",
    "        # Read all bands into a 3D array (height x width x bands)\n",
    "        image = np.stack([src.read(i) for i in range(1, src.count + 1)], axis=-1)\n",
    "        \n",
    "        # Reshape the image to have one row per pixel (num_pixels x bands)\n",
    "        nrows, ncols, nbands = image.shape\n",
    "        reshaped_image = image.reshape((nrows * ncols, nbands))\n",
    "        \n",
    "        # Define the expected bands (assuming the model expects \"B1\", \"B2\", ..., \"B13\")\n",
    "        expected_bands = 13  # Change this to match the number of bands used during training\n",
    "        if nbands > expected_bands:\n",
    "            reshaped_image = reshaped_image[:, :expected_bands]  # Select only the first expected_bands columns\n",
    "        \n",
    "        # Convert to DataFrame with appropriate column names for the model\n",
    "        band_columns = [f\"B{i}\" for i in range(1, expected_bands + 1)]\n",
    "        X_predict = pd.DataFrame(reshaped_image, columns=band_columns)\n",
    "        \n",
    "        # Predict the class for each pixel\n",
    "        predictions = model.predict(X_predict)\n",
    "        \n",
    "        # Reshape predictions back to the original image shape\n",
    "        classified_image = predictions.reshape((nrows, ncols))\n",
    "    \n",
    "    # Filter the predictions (assuming class 2 corresponds to settlements)\n",
    "    #filtered_image = np.where(classified_image == 2, 1, 0)\n",
    "    filtered_image = median_filter(classified_image, size=3)\n",
    "    \n",
    "    # Save the classified image as a new .tif file\n",
    "    output_meta = src.meta.copy()\n",
    "    output_meta.update({\n",
    "        \"driver\": \"GTiff\",\n",
    "        \"height\": nrows,\n",
    "        \"width\": ncols,\n",
    "        \"count\": 1,\n",
    "        \"dtype\": \"int32\",  # assuming the classes are integers\n",
    "        \"transform\": src.transform\n",
    "    })\n",
    "    with rasterio.open(output_path, \"w\", **output_meta) as dst:\n",
    "        dst.write(filtered_image.astype(rasterio.int32), 1)\n",
    "    \n",
    "    return True"
   ]
  },
  {
   "cell_type": "code",
   "execution_count": 30,
   "metadata": {},
   "outputs": [
    {
     "name": "stdout",
     "output_type": "stream",
     "text": [
      "C:/Users/apsam/Documents/work/Thiyaku work/blog_urban_growth/classified_v2\\20230222T050821_20230222T052224_T43PGN.tif\n",
      "C:/Users/apsam/Documents/work/Thiyaku work/blog_urban_growth/classified_v2\\20230227T050749_20230227T052458_T43PGN.tif\n",
      "C:/Users/apsam/Documents/work/Thiyaku work/blog_urban_growth/classified_v2\\20240207T051001_20240207T052026_T43PGN.tif\n"
     ]
    }
   ],
   "source": [
    "for tif_path in tif_paths:\n",
    "    tif_bn = os.path.basename(tif_path)\n",
    "    tif_date = tif_bn.replace(\".tif\", \"\")\n",
    "    out_path = os.path.join(out_dir, tif_bn)\n",
    "    if not os.path.exists(out_path):\n",
    "        predict_tif(tif_path, out_path)\n",
    "    print(out_path)"
   ]
  },
  {
   "cell_type": "code",
   "execution_count": null,
   "metadata": {},
   "outputs": [],
   "source": []
  }
 ],
 "metadata": {
  "kernelspec": {
   "display_name": "Python 3 (ipykernel)",
   "language": "python",
   "name": "python3"
  },
  "language_info": {
   "codemirror_mode": {
    "name": "ipython",
    "version": 3
   },
   "file_extension": ".py",
   "mimetype": "text/x-python",
   "name": "python",
   "nbconvert_exporter": "python",
   "pygments_lexer": "ipython3",
   "version": "3.12.2"
  }
 },
 "nbformat": 4,
 "nbformat_minor": 4
}
