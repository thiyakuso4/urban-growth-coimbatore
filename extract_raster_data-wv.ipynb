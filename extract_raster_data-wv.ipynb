{
 "cells": [
  {
   "cell_type": "code",
   "execution_count": 11,
   "id": "77f5ef12",
   "metadata": {},
   "outputs": [],
   "source": [
    "import pandas as pd\n",
    "import geopandas as gpd\n",
    "import rasterio\n",
    "import glob\n",
    "import os\n",
    "import numpy as np\n",
    "from shapely.geometry import box\n",
    "from rasterio.mask import mask"
   ]
  },
  {
   "cell_type": "code",
   "execution_count": 12,
   "id": "281b851a",
   "metadata": {},
   "outputs": [],
   "source": [
    "#data_dir = \"D:/Projects/ianis/change_detection/data\"\n",
    "tif_paths = glob.glob(f\"C:/Users/apsam/Documents/work/Thiyaku work/blog_urban_growth/New folder/*.tif\")\n",
    "gpkg_dir = f\"C:/Users/apsam/Documents/work/Thiyaku work/blog_urban_growth/gpkg\"\n",
    "# tif_paths_2022 = glob.glob(f\"{tif_path}/2022????.tif\")\n",
    "# tif_paths = glob.glob(f\"{tif_path}/corrected_rgb_image_inpainted_40.tif\")\n",
    "csv_file = f\"C:/Users/apsam/Documents/work/Thiyaku work/blog_urban_growth/cbe_extracted.csv\""
   ]
  },
  {
   "cell_type": "code",
   "execution_count": 13,
   "id": "79375076",
   "metadata": {},
   "outputs": [],
   "source": [
    "def extract_date_from_filename(filename):\n",
    "    \"\"\"\n",
    "    Extracts the date from the filename.\n",
    "\n",
    "    Parameters:\n",
    "    filename (str): The name of the file.\n",
    "\n",
    "    Returns:\n",
    "    str: The extracted date in YYYY-MM-DD format.\n",
    "    \"\"\"\n",
    "    date_str = filename[:8]\n",
    "    date_formatted = f\"{date_str[:4]}-{date_str[4:6]}-{date_str[6:]}\"\n",
    "    return date_formatted"
   ]
  },
  {
   "cell_type": "code",
   "execution_count": 14,
   "id": "7e1ebe7a",
   "metadata": {},
   "outputs": [],
   "source": [
    "def extract_all_pixel_values_for_polygons(raster_path, polygons, land_use_info, ras_date):\n",
    "    \"\"\"\n",
    "    Extracts all pixel values within specific polygons from a raster file.\n",
    "\n",
    "    Parameters:\n",
    "    raster_path (str): Path to the raster file.\n",
    "    polygons (list of Polygon): List of shapely Polygon geometries.\n",
    "    land_use_info (list of str): List of land use names corresponding to each polygon.\n",
    "    ras_date (str): Date associated with the raster data.\n",
    "\n",
    "    Returns:\n",
    "    pd.DataFrame: DataFrame containing all pixel values within each polygon for the specified bands,\n",
    "                  along with the date, land use information, and pixel coordinates.\n",
    "    \"\"\"\n",
    "    \n",
    "    values_list = []\n",
    "    band_names = ['B1', 'B2', 'B3','B4','B5','B6','B7','B8','B9','B10','B11','B12','B13']\n",
    "    \n",
    "    with rasterio.open(raster_path) as src:\n",
    "        for polygon, land_use in zip(polygons, land_use_info):\n",
    "            # Mask the raster with the polygon\n",
    "            masked_raster, masked_transform = mask(src, [polygon], nodata=-99, crop=True)\n",
    "            # Loop through each band to extract pixel values\n",
    "            for band_index, band_name in enumerate(band_names, start=1):\n",
    "                band_data = masked_raster[band_index - 1]  # Get the data for the specific band\n",
    "                \n",
    "                # Get the coordinates of each pixel in the masked region\n",
    "                rows, cols = np.where(~np.isnan(band_data))  # Only get pixels within the polygon (non-NaN)\n",
    "                for row, col in zip(rows, cols):\n",
    "                    # Get the raster value at this pixel\n",
    "                    pixel_value = band_data[row, col]\n",
    "                    # Convert the row/col to actual x, y coordinates\n",
    "                    x, y = rasterio.transform.xy(masked_transform, row, col, offset='center')\n",
    "                    # Store the values and metadata\n",
    "                    values_dict = {\n",
    "                        'Date': ras_date,\n",
    "                        'Land Use': land_use,\n",
    "                        'Band': band_name,\n",
    "                        \"x\": x,\n",
    "                        \"y\": y,\n",
    "                        'Value': pixel_value,\n",
    "                    }\n",
    "                    values_list.append(values_dict)\n",
    "    # Convert the list of dictionaries to a DataFrame\n",
    "    df = pd.DataFrame(values_list)\n",
    "    \n",
    "    return df"
   ]
  },
  {
   "cell_type": "code",
   "execution_count": 15,
   "id": "4f1ed3ca",
   "metadata": {},
   "outputs": [
    {
     "name": "stdout",
     "output_type": "stream",
     "text": [
      "20230222T050821_20230222T052224_T43PGN.tif\n",
      "20230227T050749_20230227T052458_T43PGN.tif\n",
      "20240207T051001_20240207T052026_T43PGN.tif\n"
     ]
    }
   ],
   "source": [
    "df_list = []\n",
    "for tif_path in tif_paths:\n",
    "    tif_bn = os.path.basename(tif_path)\n",
    "    tif_date = tif_bn.replace(\".tif\", \"\")\n",
    "    gpkg_bn = f\"{tif_date}_training.gpkg\"\n",
    "    gpkg_path = f\"{gpkg_dir}/{gpkg_bn}\"\n",
    "    \n",
    "    training_data = gpd.read_file(gpkg_path)\n",
    "    # Read the raster file to get its CRS\n",
    "    with rasterio.open(tif_path) as src:\n",
    "        raster_crs = src.crs\n",
    "    if training_data.crs != raster_crs:\n",
    "        training_data = training_data.to_crs(raster_crs)\n",
    "    training_data = training_data[~training_data.geometry.isna()]\n",
    "    df = extract_all_pixel_values_for_polygons(tif_path, training_data.geometry, training_data[\"label\"], tif_date)\n",
    "    print(tif_bn)\n",
    "    df_list.append(df)"
   ]
  },
  {
   "cell_type": "code",
   "execution_count": 16,
   "id": "09f4a366",
   "metadata": {},
   "outputs": [
    {
     "data": {
      "text/html": [
       "<div>\n",
       "<style scoped>\n",
       "    .dataframe tbody tr th:only-of-type {\n",
       "        vertical-align: middle;\n",
       "    }\n",
       "\n",
       "    .dataframe tbody tr th {\n",
       "        vertical-align: top;\n",
       "    }\n",
       "\n",
       "    .dataframe thead th {\n",
       "        text-align: right;\n",
       "    }\n",
       "</style>\n",
       "<table border=\"1\" class=\"dataframe\">\n",
       "  <thead>\n",
       "    <tr style=\"text-align: right;\">\n",
       "      <th></th>\n",
       "      <th>Date</th>\n",
       "      <th>Land Use</th>\n",
       "      <th>Band</th>\n",
       "      <th>x</th>\n",
       "      <th>y</th>\n",
       "      <th>Value</th>\n",
       "    </tr>\n",
       "  </thead>\n",
       "  <tbody>\n",
       "    <tr>\n",
       "      <th>0</th>\n",
       "      <td>20240207T051001_20240207T052026_T43PGN</td>\n",
       "      <td>settelements</td>\n",
       "      <td>B1</td>\n",
       "      <td>711905.0</td>\n",
       "      <td>1220305.0</td>\n",
       "      <td>-99.0</td>\n",
       "    </tr>\n",
       "    <tr>\n",
       "      <th>1</th>\n",
       "      <td>20240207T051001_20240207T052026_T43PGN</td>\n",
       "      <td>settelements</td>\n",
       "      <td>B1</td>\n",
       "      <td>711915.0</td>\n",
       "      <td>1220305.0</td>\n",
       "      <td>-99.0</td>\n",
       "    </tr>\n",
       "    <tr>\n",
       "      <th>2</th>\n",
       "      <td>20240207T051001_20240207T052026_T43PGN</td>\n",
       "      <td>settelements</td>\n",
       "      <td>B1</td>\n",
       "      <td>711925.0</td>\n",
       "      <td>1220305.0</td>\n",
       "      <td>-99.0</td>\n",
       "    </tr>\n",
       "    <tr>\n",
       "      <th>3</th>\n",
       "      <td>20240207T051001_20240207T052026_T43PGN</td>\n",
       "      <td>settelements</td>\n",
       "      <td>B1</td>\n",
       "      <td>711935.0</td>\n",
       "      <td>1220305.0</td>\n",
       "      <td>-99.0</td>\n",
       "    </tr>\n",
       "    <tr>\n",
       "      <th>4</th>\n",
       "      <td>20240207T051001_20240207T052026_T43PGN</td>\n",
       "      <td>settelements</td>\n",
       "      <td>B1</td>\n",
       "      <td>711945.0</td>\n",
       "      <td>1220305.0</td>\n",
       "      <td>-99.0</td>\n",
       "    </tr>\n",
       "  </tbody>\n",
       "</table>\n",
       "</div>"
      ],
      "text/plain": [
       "                                     Date      Land Use Band         x  \\\n",
       "0  20240207T051001_20240207T052026_T43PGN  settelements   B1  711905.0   \n",
       "1  20240207T051001_20240207T052026_T43PGN  settelements   B1  711915.0   \n",
       "2  20240207T051001_20240207T052026_T43PGN  settelements   B1  711925.0   \n",
       "3  20240207T051001_20240207T052026_T43PGN  settelements   B1  711935.0   \n",
       "4  20240207T051001_20240207T052026_T43PGN  settelements   B1  711945.0   \n",
       "\n",
       "           y  Value  \n",
       "0  1220305.0  -99.0  \n",
       "1  1220305.0  -99.0  \n",
       "2  1220305.0  -99.0  \n",
       "3  1220305.0  -99.0  \n",
       "4  1220305.0  -99.0  "
      ]
     },
     "execution_count": 16,
     "metadata": {},
     "output_type": "execute_result"
    }
   ],
   "source": [
    "df.head()"
   ]
  },
  {
   "cell_type": "code",
   "execution_count": 17,
   "id": "49f7cb73",
   "metadata": {},
   "outputs": [
    {
     "data": {
      "text/plain": [
       "(3369002, 6)"
      ]
     },
     "execution_count": 17,
     "metadata": {},
     "output_type": "execute_result"
    }
   ],
   "source": [
    "merged_df = gpd.GeoDataFrame(pd.concat(df_list, ignore_index=True))\n",
    "merged_df.shape"
   ]
  },
  {
   "cell_type": "code",
   "execution_count": 18,
   "id": "cf32bdfc",
   "metadata": {},
   "outputs": [],
   "source": [
    "#csv_file = f\"C:/Users/apsam/Documents/work/New folder/wv_data_extracted.csv\"\n",
    "merged_df.to_csv(csv_file, index=False)"
   ]
  },
  {
   "cell_type": "code",
   "execution_count": 19,
   "id": "7d370249",
   "metadata": {},
   "outputs": [
    {
     "data": {
      "text/html": [
       "<div>\n",
       "<style scoped>\n",
       "    .dataframe tbody tr th:only-of-type {\n",
       "        vertical-align: middle;\n",
       "    }\n",
       "\n",
       "    .dataframe tbody tr th {\n",
       "        vertical-align: top;\n",
       "    }\n",
       "\n",
       "    .dataframe thead th {\n",
       "        text-align: right;\n",
       "    }\n",
       "</style>\n",
       "<table border=\"1\" class=\"dataframe\">\n",
       "  <thead>\n",
       "    <tr style=\"text-align: right;\">\n",
       "      <th></th>\n",
       "      <th>Date</th>\n",
       "      <th>Land Use</th>\n",
       "      <th>Band</th>\n",
       "      <th>x</th>\n",
       "      <th>y</th>\n",
       "      <th>Value</th>\n",
       "    </tr>\n",
       "  </thead>\n",
       "  <tbody>\n",
       "    <tr>\n",
       "      <th>0</th>\n",
       "      <td>20230222T050821_20230222T052224_T43PGN</td>\n",
       "      <td>settelements</td>\n",
       "      <td>B1</td>\n",
       "      <td>713455.0</td>\n",
       "      <td>1216585.0</td>\n",
       "      <td>-99.0</td>\n",
       "    </tr>\n",
       "    <tr>\n",
       "      <th>1</th>\n",
       "      <td>20230222T050821_20230222T052224_T43PGN</td>\n",
       "      <td>settelements</td>\n",
       "      <td>B1</td>\n",
       "      <td>713465.0</td>\n",
       "      <td>1216585.0</td>\n",
       "      <td>-99.0</td>\n",
       "    </tr>\n",
       "    <tr>\n",
       "      <th>2</th>\n",
       "      <td>20230222T050821_20230222T052224_T43PGN</td>\n",
       "      <td>settelements</td>\n",
       "      <td>B1</td>\n",
       "      <td>713475.0</td>\n",
       "      <td>1216585.0</td>\n",
       "      <td>-99.0</td>\n",
       "    </tr>\n",
       "    <tr>\n",
       "      <th>3</th>\n",
       "      <td>20230222T050821_20230222T052224_T43PGN</td>\n",
       "      <td>settelements</td>\n",
       "      <td>B1</td>\n",
       "      <td>713485.0</td>\n",
       "      <td>1216585.0</td>\n",
       "      <td>-99.0</td>\n",
       "    </tr>\n",
       "    <tr>\n",
       "      <th>4</th>\n",
       "      <td>20230222T050821_20230222T052224_T43PGN</td>\n",
       "      <td>settelements</td>\n",
       "      <td>B1</td>\n",
       "      <td>713495.0</td>\n",
       "      <td>1216585.0</td>\n",
       "      <td>-99.0</td>\n",
       "    </tr>\n",
       "  </tbody>\n",
       "</table>\n",
       "</div>"
      ],
      "text/plain": [
       "                                     Date      Land Use Band         x  \\\n",
       "0  20230222T050821_20230222T052224_T43PGN  settelements   B1  713455.0   \n",
       "1  20230222T050821_20230222T052224_T43PGN  settelements   B1  713465.0   \n",
       "2  20230222T050821_20230222T052224_T43PGN  settelements   B1  713475.0   \n",
       "3  20230222T050821_20230222T052224_T43PGN  settelements   B1  713485.0   \n",
       "4  20230222T050821_20230222T052224_T43PGN  settelements   B1  713495.0   \n",
       "\n",
       "           y  Value  \n",
       "0  1216585.0  -99.0  \n",
       "1  1216585.0  -99.0  \n",
       "2  1216585.0  -99.0  \n",
       "3  1216585.0  -99.0  \n",
       "4  1216585.0  -99.0  "
      ]
     },
     "execution_count": 19,
     "metadata": {},
     "output_type": "execute_result"
    }
   ],
   "source": [
    "merged_df.head()"
   ]
  },
  {
   "cell_type": "code",
   "execution_count": 20,
   "id": "4a6c30c6",
   "metadata": {},
   "outputs": [
    {
     "data": {
      "text/plain": [
       "(3369002, 6)"
      ]
     },
     "execution_count": 20,
     "metadata": {},
     "output_type": "execute_result"
    }
   ],
   "source": [
    "merged_df.shape"
   ]
  },
  {
   "cell_type": "code",
   "execution_count": null,
   "id": "ef06ea0d-7056-42e9-b4b2-6c2bafd6a356",
   "metadata": {},
   "outputs": [],
   "source": []
  }
 ],
 "metadata": {
  "kernelspec": {
   "display_name": "Python 3 (ipykernel)",
   "language": "python",
   "name": "python3"
  },
  "language_info": {
   "codemirror_mode": {
    "name": "ipython",
    "version": 3
   },
   "file_extension": ".py",
   "mimetype": "text/x-python",
   "name": "python",
   "nbconvert_exporter": "python",
   "pygments_lexer": "ipython3",
   "version": "3.12.2"
  }
 },
 "nbformat": 4,
 "nbformat_minor": 5
}
